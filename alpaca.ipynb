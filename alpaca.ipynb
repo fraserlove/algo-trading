{
 "cells": [
  {
   "cell_type": "code",
   "execution_count": 32,
   "metadata": {},
   "outputs": [
    {
     "name": "stdout",
     "output_type": "stream",
     "text": [
      "$199995.896225 is available as buying power.\n",
      "Today's portfolio balance change: $0.0\n"
     ]
    }
   ],
   "source": [
    "import keyring\n",
    "\n",
    "from alpaca.trading.client import TradingClient\n",
    "from alpaca.trading.requests import MarketOrderRequest\n",
    "from alpaca.trading.enums import OrderSide, TimeInForce\n",
    "\n",
    "# Use paper trading, no real money used.\n",
    "USE_PAPER = True\n",
    "\n",
    "(api_key_type, secret_key_type) = ('api_key_paper', 'secret_key_paper') if USE_PAPER else ('api_key', 'secret_key')\n",
    "api_key = keyring.get_password('alpaca', api_key_type)\n",
    "secret_key = keyring.get_password('alpaca', secret_key_type)\n",
    "\n",
    "if not api_key or not secret_key:\n",
    "    raise Exception('Alpaca API key not found.')\n",
    "trading_client = TradingClient(api_key, secret_key, paper=USE_PAPER)\n",
    "\n",
    "# Get our account information.\n",
    "account = trading_client.get_account()\n",
    "\n",
    "# Check how much money we can use to open new positions.\n",
    "print('${} is available as buying power.'.format(account.buying_power))\n",
    "\n",
    "# Check our current balance vs. our balance at the last market close\n",
    "balance_change = float(account.equity) - float(account.last_equity)\n",
    "print(f'Today\\'s portfolio balance change: ${balance_change}')"
   ]
  },
  {
   "cell_type": "code",
   "execution_count": 33,
   "metadata": {},
   "outputs": [
    {
     "name": "stdout",
     "output_type": "stream",
     "text": [
      "We can trade AAPL.\n"
     ]
    }
   ],
   "source": [
    "# Search for AAPL\n",
    "aapl_asset = trading_client.get_asset('AAPL')\n",
    "\n",
    "if aapl_asset.tradable:\n",
    "    print('We can trade AAPL.')"
   ]
  },
  {
   "cell_type": "code",
   "execution_count": 34,
   "metadata": {},
   "outputs": [],
   "source": [
    "# Preparing market order\n",
    "market_order_data = MarketOrderRequest(\n",
    "                    symbol='AAPL',\n",
    "                    qty=0.023,\n",
    "                    side=OrderSide.BUY,\n",
    "                    time_in_force=TimeInForce.DAY\n",
    "                    )\n",
    "\n",
    "# Market order\n",
    "market_order = trading_client.submit_order(\n",
    "                order_data=market_order_data\n",
    "               )"
   ]
  }
 ],
 "metadata": {
  "kernelspec": {
   "display_name": ".venv",
   "language": "python",
   "name": "python3"
  },
  "language_info": {
   "codemirror_mode": {
    "name": "ipython",
    "version": 3
   },
   "file_extension": ".py",
   "mimetype": "text/x-python",
   "name": "python",
   "nbconvert_exporter": "python",
   "pygments_lexer": "ipython3",
   "version": "3.10.12"
  },
  "orig_nbformat": 4
 },
 "nbformat": 4,
 "nbformat_minor": 2
}
