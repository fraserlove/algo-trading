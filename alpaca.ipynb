{
 "cells": [
  {
   "cell_type": "markdown",
   "metadata": {},
   "source": [
    "### Getting Started"
   ]
  },
  {
   "cell_type": "code",
   "execution_count": 16,
   "metadata": {},
   "outputs": [
    {
     "name": "stdout",
     "output_type": "stream",
     "text": [
      "$199967.078812 is available as buying power.\n",
      "Today's portfolio balance change: $-0.08183399999688845\n"
     ]
    }
   ],
   "source": [
    "import keyring\n",
    "\n",
    "from alpaca.trading.client import TradingClient\n",
    "from alpaca.trading.requests import MarketOrderRequest\n",
    "\n",
    "# Use paper trading, no real money used.\n",
    "USE_PAPER = True\n",
    "\n",
    "(api_key_type, secret_key_type) = ('api_key_paper', 'secret_key_paper') if USE_PAPER else ('api_key', 'secret_key')\n",
    "api_key = keyring.get_password('alpaca', api_key_type)\n",
    "secret_key = keyring.get_password('alpaca', secret_key_type)\n",
    "\n",
    "if not api_key or not secret_key:\n",
    "    raise Exception('Alpaca API key not found.')\n",
    "trading_client = TradingClient(api_key, secret_key, paper=USE_PAPER)\n",
    "\n",
    "# Get our account information.\n",
    "account = trading_client.get_account()\n",
    "\n",
    "# Check how much money we can use to open new positions.\n",
    "print('${} is available as buying power.'.format(account.buying_power))\n",
    "\n",
    "# Check our current balance vs. our balance at the last market close\n",
    "balance_change = float(account.equity) - float(account.last_equity)\n",
    "print(f'Today\\'s portfolio balance change: ${balance_change}')"
   ]
  },
  {
   "cell_type": "code",
   "execution_count": 2,
   "metadata": {},
   "outputs": [
    {
     "name": "stdout",
     "output_type": "stream",
     "text": [
      "We can trade AAPL.\n"
     ]
    }
   ],
   "source": [
    "# Search for AAPL\n",
    "aapl_asset = trading_client.get_asset('AAPL')\n",
    "\n",
    "if aapl_asset.tradable:\n",
    "    print('We can trade AAPL.')"
   ]
  },
  {
   "cell_type": "code",
   "execution_count": 8,
   "metadata": {},
   "outputs": [],
   "source": [
    "# Preparing market order\n",
    "market_order_data = MarketOrderRequest(\n",
    "                    symbol='AAPL',\n",
    "                    qty=0.023,\n",
    "                    side=OrderSide.BUY,\n",
    "                    time_in_force=TimeInForce.DAY\n",
    "                    )\n",
    "\n",
    "# Market order\n",
    "market_order = trading_client.submit_order(\n",
    "                order_data=market_order_data\n",
    "               )"
   ]
  },
  {
   "cell_type": "markdown",
   "metadata": {},
   "source": [
    "### Market Data"
   ]
  },
  {
   "cell_type": "code",
   "execution_count": 21,
   "metadata": {},
   "outputs": [],
   "source": [
    "from alpaca.data.historical import StockHistoricalDataClient\n",
    "from alpaca.data.requests import StockLatestQuoteRequest\n",
    "\n",
    "stock_client = StockHistoricalDataClient(api_key, secret_key)\n",
    "\n",
    "# multi symbol request - single symbol is similar\n",
    "multisymbol_request_params = StockLatestQuoteRequest(symbol_or_symbols=[\"SPY\", \"GLD\", \"TLT\"])\n",
    "\n",
    "latest_multisymbol_quotes = stock_client.get_stock_latest_quote(multisymbol_request_params)\n",
    "\n",
    "gld_latest_ask_price = latest_multisymbol_quotes[\"GLD\"].ask_price"
   ]
  }
 ],
 "metadata": {
  "kernelspec": {
   "display_name": ".venv",
   "language": "python",
   "name": "python3"
  },
  "language_info": {
   "codemirror_mode": {
    "name": "ipython",
    "version": 3
   },
   "file_extension": ".py",
   "mimetype": "text/x-python",
   "name": "python",
   "nbconvert_exporter": "python",
   "pygments_lexer": "ipython3",
   "version": "3.10.12"
  },
  "orig_nbformat": 4
 },
 "nbformat": 4,
 "nbformat_minor": 2
}
